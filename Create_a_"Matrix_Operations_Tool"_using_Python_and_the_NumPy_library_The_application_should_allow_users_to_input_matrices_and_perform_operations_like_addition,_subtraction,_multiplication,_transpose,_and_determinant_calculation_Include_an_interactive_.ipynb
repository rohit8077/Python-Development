{
  "nbformat": 4,
  "nbformat_minor": 0,
  "metadata": {
    "colab": {
      "provenance": [],
      "authorship_tag": "ABX9TyNaAQifsO6QMEGrloEbCH+y",
      "include_colab_link": true
    },
    "kernelspec": {
      "name": "python3",
      "display_name": "Python 3"
    },
    "language_info": {
      "name": "python"
    }
  },
  "cells": [
    {
      "cell_type": "markdown",
      "metadata": {
        "id": "view-in-github",
        "colab_type": "text"
      },
      "source": [
        "<a href=\"https://colab.research.google.com/github/rohit8077/Python-Development/blob/main/Create_a_%22Matrix_Operations_Tool%22_using_Python_and_the_NumPy_library_The_application_should_allow_users_to_input_matrices_and_perform_operations_like_addition%2C_subtraction%2C_multiplication%2C_transpose%2C_and_determinant_calculation_Include_an_interactive_.ipynb\" target=\"_parent\"><img src=\"https://colab.research.google.com/assets/colab-badge.svg\" alt=\"Open In Colab\"/></a>"
      ]
    },
    {
      "cell_type": "code",
      "execution_count": null,
      "metadata": {
        "colab": {
          "base_uri": "https://localhost:8080/"
        },
        "id": "db7V2453buFp",
        "outputId": "39e27a33-b2be-461c-c871-4c42e388ec79"
      },
      "outputs": [
        {
          "output_type": "stream",
          "name": "stdout",
          "text": [
            "Matrix Operations Tool\n",
            "1. Addition\n",
            "2. Subtraction\n",
            "3. Multiplication\n",
            "4. Transpose\n",
            "5. Determinant\n",
            "Select an operation (1-5): 1\n",
            "Enter the number of rows for Matrix 1: 2\n",
            "Enter the number of columns for Matrix 1: 1\n",
            "Enter the elements of Matrix 1 row-wise:\n",
            "1\n",
            "2\n",
            "Enter the number of rows for Matrix 2: 2\n",
            "Enter the number of columns for Matrix 2: 1\n",
            "Enter the elements of Matrix 2 row-wise:\n",
            "1\n",
            "2\n",
            "\n",
            "Matrix 1:\n",
            "[[1.]\n",
            " [2.]]\n",
            "\n",
            "Matrix 2:\n",
            "[[1.]\n",
            " [2.]]\n",
            "\n",
            "Result (Addition):\n",
            "[[2.]\n",
            " [4.]]\n"
          ]
        }
      ],
      "source": [
        "import numpy as np\n",
        "\n",
        "def get_matrix_input(name):\n",
        "    rows = int(input(f\"Enter the number of rows for {name}: \"))\n",
        "    cols = int(input(f\"Enter the number of columns for {name}: \"))\n",
        "    print(f\"Enter the elements of {name} row-wise:\")\n",
        "    matrix = []\n",
        "    for i in range(rows):\n",
        "        row = list(map(float, input().split()))\n",
        "        if len(row) != cols:\n",
        "            print(\"Invalid row length. Please enter again.\")\n",
        "            return get_matrix_input(name)\n",
        "        matrix.append(row)\n",
        "    return np.array(matrix)\n",
        "\n",
        "def display_matrix(matrix, name=\"Matrix\"):\n",
        "    print(f\"\\n{name}:\")\n",
        "    print(matrix)\n",
        "\n",
        "def matrix_operations():\n",
        "    print(\"Matrix Operations Tool\")\n",
        "    print(\"1. Addition\")\n",
        "    print(\"2. Subtraction\")\n",
        "    print(\"3. Multiplication\")\n",
        "    print(\"4. Transpose\")\n",
        "    print(\"5. Determinant\")\n",
        "    choice = int(input(\"Select an operation (1-5): \"))\n",
        "\n",
        "    if choice in [1, 2, 3]:\n",
        "        matrix1 = get_matrix_input(\"Matrix 1\")\n",
        "        matrix2 = get_matrix_input(\"Matrix 2\")\n",
        "        display_matrix(matrix1, \"Matrix 1\")\n",
        "        display_matrix(matrix2, \"Matrix 2\")\n",
        "\n",
        "        if choice == 1:  # Addition\n",
        "            if matrix1.shape == matrix2.shape:\n",
        "                result = matrix1 + matrix2\n",
        "                display_matrix(result, \"Result (Addition)\")\n",
        "            else:\n",
        "                print(\"Addition not possible. Matrices must have the same dimensions.\")\n",
        "        elif choice == 2:  # Subtraction\n",
        "            if matrix1.shape == matrix2.shape:\n",
        "                result = matrix1 - matrix2\n",
        "                display_matrix(result, \"Result (Subtraction)\")\n",
        "            else:\n",
        "                print(\"Subtraction not possible. Matrices must have the same dimensions.\")\n",
        "        elif choice == 3:  # Multiplication\n",
        "            if matrix1.shape[1] == matrix2.shape[0]:\n",
        "                result = np.dot(matrix1, matrix2)\n",
        "                display_matrix(result, \"Result (Multiplication)\")\n",
        "            else:\n",
        "                print(\"Multiplication not possible. Columns of Matrix 1 must equal rows of Matrix 2.\")\n",
        "\n",
        "    elif choice == 4:  # Transpose\n",
        "        matrix = get_matrix_input(\"Matrix\")\n",
        "        display_matrix(matrix, \"Original Matrix\")\n",
        "        result = np.transpose(matrix)\n",
        "        display_matrix(result, \"Transpose\")\n",
        "\n",
        "    elif choice == 5:  # Determinant\n",
        "        matrix = get_matrix_input(\"Square Matrix\")\n",
        "        if matrix.shape[0] == matrix.shape[1]:\n",
        "            det = np.linalg.det(matrix)\n",
        "            print(f\"\\nDeterminant: {det}\")\n",
        "        else:\n",
        "            print(\"Determinant can only be calculated for square matrices.\")\n",
        "    else:\n",
        "        print(\"Invalid choice. Please select a valid operation.\")\n",
        "\n",
        "if __name__ == \"__main__\":\n",
        "    while True:\n",
        "        matrix_operations()\n",
        "        cont = input(\"Do you want to perform another operation? (yes/no): \").strip().lower()\n",
        "        if cont != \"yes\":\n",
        "            break\n"
      ]
    }
  ]
}